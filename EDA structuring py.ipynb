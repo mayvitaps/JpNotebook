{
 "cells": [
  {
   "cell_type": "code",
   "execution_count": 1,
   "metadata": {},
   "outputs": [],
   "source": [
    "# import statements\n",
    "\n",
    "import pandas as pd\n",
    "import numpy as np\n",
    "import seaborn as sns\n",
    "import datetime\n",
    "from matplotlib import pyplot as plt"
   ]
  },
  {
   "cell_type": "code",
   "execution_count": null,
   "metadata": {},
   "outputs": [],
   "source": [
    "# Read in the 2018 data \n",
    "df = pd.read_csv('eda_structuring_with_python_dataset1.csv') \n",
    "df.head()\n",
    "\n",
    "#convert date column to datetime dtype\n",
    "df['date'] = pd.to_datetime(df['date'])\n",
    "\n",
    "# Shape check on dataframe\n",
    "df.shape\n",
    "\n",
    "#check for duplicates, check by shape\n",
    "df.drop_duplicates().shape\n"
   ]
  },
  {
   "cell_type": "code",
   "execution_count": null,
   "metadata": {},
   "outputs": [],
   "source": [
    "# Locations with most strikes in a single day\n",
    "\n",
    "# Sort by number of strikes in descending order.\n",
    "df.sort_values(by = 'number_of_strikes', ascending = False).head(10)\n",
    "\n",
    "# Locations with most days with at least one lightning strike\n",
    "## Identify the locations that appear most in the dataset.\n",
    "df.center_point_geom.value_counts()\n",
    "\n",
    "## Identify the top 20 locations with most days of lightning.\n",
    "df.center_point_geom.value_counts()[:20].rename_axis('unique_values').reset_index(name = 'counts').style.background_gradient()\n",
    "\n",
    "\n",
    "# Lightning strikes by day of week\n",
    "## Create two new columns.\n",
    "df['week'] = df.date.dt.isocalendar().week\n",
    "df['weekday'] = df.date.dt.day_name()\n",
    "df.head()\n",
    "\n",
    "## Calculate the mean count of lightning strikes for each weekday.\n",
    "df[['weekday', 'number_of_strikes']].groupby(['weekday']).mean()\n",
    "\n",
    "## Define order of days for the plot.\n",
    "weekday_order = ['Monday', 'Tuesday', 'Wednesday', 'Thursday','Friday','Saturday','Sunday']"
   ]
  },
  {
   "cell_type": "code",
   "execution_count": null,
   "metadata": {},
   "outputs": [],
   "source": [
    "# Create boxplots of strike counts for each day of week.\n",
    "g = sns.boxplot(data = df,\n",
    "            x = 'weekday',\n",
    "            y = 'number_of_strikes',\n",
    "            order = weekday_order,\n",
    "            showfliers = False\n",
    "            );\n",
    "g.set_title('Lightning distribution per weekday (2018)');"
   ]
  },
  {
   "cell_type": "code",
   "execution_count": null,
   "metadata": {},
   "outputs": [],
   "source": [
    "# Monthly lightning strikes 2016-2018\n",
    "\n",
    "# import 2016-2017 data\n",
    "df_2 = pd.read_csv('eda_structuring_with_python_dataset2.csv')\n",
    "df_2.head()\n",
    "\n",
    "#convert date column to datetime dtype\n",
    "df_2['date'] = pd.to_datetime(df_2['date'])\n",
    "\n",
    "# Create a new dataframe combining 2016–2017 data with 2018 data.\n",
    "union_df = pd.concat([df.drop(['weekday', 'week'], axis = 1), df_2], ignore_index = True)\n",
    "union_df.head()\n",
    "\n",
    "#Add 3 new column\n",
    "union_df['year'] = union_df.date.dt.year\n",
    "union_df['month']= union_df.date.dt.month\n",
    "union_df['month_txt'] = union_df.date.dt.month_name()\n",
    "union_df.head()"
   ]
  },
  {
   "cell_type": "code",
   "execution_count": null,
   "metadata": {},
   "outputs": [],
   "source": [
    "# Calculate total number of strikes per year\n",
    "union_df[['year', 'number_of_strikes']].groupby.(['year']).sum()\n",
    "\n",
    "# Calculate total lightning strikes for each month of each year.\n",
    "lightning_by_month = union_df.groupby(['month_txt', 'year']).agg(\n",
    "    number_of_strikes = pd.NamedAgg(column = 'number of strikes', aggfunc = sum)\n",
    "    ).reset_index()\n",
    "lightning_by_month.head()\n",
    "\n",
    "# Calculate total lightning strikes for each year.\n",
    "lightning_by_year = union_df.groupby(['year']).agg(\n",
    "    year_strikes = pd.NamedAgg(column = 'number_of_strikes', aggfunc=sum)\n",
    ").reset_index()\n",
    "lightning_by_year.head()"
   ]
  },
  {
   "cell_type": "code",
   "execution_count": null,
   "metadata": {},
   "outputs": [],
   "source": [
    "# Combine `lightning_by_month` and `lightning_by_year` dataframes into single dataframe.\n",
    "precentage_lightning = lightning_by_month.merge(lightning_by_year, on = 'year')\n",
    "precentage_lightning.head()\n",
    "\n",
    "# Create new `percentage_lightning_per_month` column.\n",
    "precentage_lightning['precentage_lightning_per_month'] = (percentage_lightning.number_of_strikes/ percentage_lightning.year_strikes * 100.0)\n",
    "percentage_lightning.head()"
   ]
  },
  {
   "cell_type": "code",
   "execution_count": null,
   "metadata": {},
   "outputs": [],
   "source": [
    "# Bar plot precentages by month\n",
    "\n",
    "plt.figure(figsize = (10,6));\n",
    "\n",
    "month_order = ['January', 'February', 'March', 'April', 'May', 'June', 'July', 'August', 'September', 'October', 'November', 'December']\n",
    "\n",
    "sns.barplot(\n",
    "    data = precentage_lightning,\n",
    "    x = 'month_txt',\n",
    "    y = 'precentage_lightning_per_month',\n",
    "    hue = 'year',\n",
    "    order = month_order);\n",
    "plt.xlabel(\"Month\");\n",
    "plt.ylabel(\"% of Lightning strikes\");\n",
    "plt.title(\"% of lightning strikes each month (2016 - 2018)\");"
   ]
  }
 ],
 "metadata": {
  "kernelspec": {
   "display_name": "base",
   "language": "python",
   "name": "python3"
  },
  "language_info": {
   "codemirror_mode": {
    "name": "ipython",
    "version": 3
   },
   "file_extension": ".py",
   "mimetype": "text/x-python",
   "name": "python",
   "nbconvert_exporter": "python",
   "pygments_lexer": "ipython3",
   "version": "3.12.4"
  }
 },
 "nbformat": 4,
 "nbformat_minor": 2
}

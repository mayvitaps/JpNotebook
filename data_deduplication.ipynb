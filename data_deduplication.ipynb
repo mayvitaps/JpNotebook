{
 "cells": [
  {
   "cell_type": "code",
   "execution_count": 17,
   "metadata": {},
   "outputs": [],
   "source": [
    "# Define the data\n",
    "data = {\n",
    "    'brand' : ['Wowyow', 'Wowyow', 'Splaysh', 'Splaysh', 'Pipplee'],\n",
    "    'style': ['cistern', 'cistern', 'jug', 'stock', 'stock'],\n",
    "    'rating': [4.0, 4.0, 5.5, 3.3, 3.0]\n",
    "}"
   ]
  },
  {
   "cell_type": "code",
   "execution_count": 4,
   "metadata": {},
   "outputs": [],
   "source": [
    "import pandas as pd\n",
    "import numpy as np"
   ]
  },
  {
   "cell_type": "code",
   "execution_count": 25,
   "metadata": {},
   "outputs": [
    {
     "name": "stdout",
     "output_type": "stream",
     "text": [
      "     brand    style  rating\n",
      "0   Wowyow  cistern     4.0\n",
      "1   Wowyow  cistern     4.0\n",
      "2  Splaysh      jug     5.5\n",
      "3  Splaysh    stock     3.3\n",
      "4  Pipplee    stock     3.0\n",
      "\n",
      "0    False\n",
      "1     True\n",
      "2    False\n",
      "3    False\n",
      "4    False\n",
      "dtype: bool\n"
     ]
    }
   ],
   "source": [
    "# Create the DataFrame\n",
    "df = pd.DataFrame(data)\n",
    "\n",
    "# Display the DataFrame\n",
    "print(df)\n",
    "\n",
    "\n",
    "# Using the duplicated() function, the result is that one has been marked “True,” indicating it is a duplicate.\n",
    "print()\n",
    "print(df.duplicated())"
   ]
  },
  {
   "cell_type": "code",
   "execution_count": 26,
   "metadata": {},
   "outputs": [
    {
     "data": {
      "text/html": [
       "<div>\n",
       "<style scoped>\n",
       "    .dataframe tbody tr th:only-of-type {\n",
       "        vertical-align: middle;\n",
       "    }\n",
       "\n",
       "    .dataframe tbody tr th {\n",
       "        vertical-align: top;\n",
       "    }\n",
       "\n",
       "    .dataframe thead th {\n",
       "        text-align: right;\n",
       "    }\n",
       "</style>\n",
       "<table border=\"1\" class=\"dataframe\">\n",
       "  <thead>\n",
       "    <tr style=\"text-align: right;\">\n",
       "      <th></th>\n",
       "      <th>brand</th>\n",
       "      <th>style</th>\n",
       "      <th>rating</th>\n",
       "    </tr>\n",
       "  </thead>\n",
       "  <tbody>\n",
       "    <tr>\n",
       "      <th>0</th>\n",
       "      <td>Wowyow</td>\n",
       "      <td>cistern</td>\n",
       "      <td>4.0</td>\n",
       "    </tr>\n",
       "    <tr>\n",
       "      <th>2</th>\n",
       "      <td>Splaysh</td>\n",
       "      <td>jug</td>\n",
       "      <td>5.5</td>\n",
       "    </tr>\n",
       "    <tr>\n",
       "      <th>3</th>\n",
       "      <td>Splaysh</td>\n",
       "      <td>stock</td>\n",
       "      <td>3.3</td>\n",
       "    </tr>\n",
       "    <tr>\n",
       "      <th>4</th>\n",
       "      <td>Pipplee</td>\n",
       "      <td>stock</td>\n",
       "      <td>3.0</td>\n",
       "    </tr>\n",
       "  </tbody>\n",
       "</table>\n",
       "</div>"
      ],
      "text/plain": [
       "     brand    style  rating\n",
       "0   Wowyow  cistern     4.0\n",
       "2  Splaysh      jug     5.5\n",
       "3  Splaysh    stock     3.3\n",
       "4  Pipplee    stock     3.0"
      ]
     },
     "execution_count": 26,
     "metadata": {},
     "output_type": "execute_result"
    }
   ],
   "source": [
    "# Drop duplicates function\n",
    "df.drop_duplicates()"
   ]
  },
  {
   "cell_type": "markdown",
   "metadata": {},
   "source": [
    "SAMPLE 2"
   ]
  },
  {
   "cell_type": "code",
   "execution_count": 20,
   "metadata": {},
   "outputs": [
    {
     "name": "stdout",
     "output_type": "stream",
     "text": [
      "     brand    style  rating\n",
      "0   Wowyow  cistern     4.0\n",
      "1   Wowyow  cistern     4.0\n",
      "2  Splaysh      jug     5.5\n",
      "3  Splaysh    stock     3.3\n",
      "4  Pipplee    stock     3.0\n"
     ]
    }
   ],
   "source": [
    "# Define the data\n",
    "data = {\n",
    "    'brand' : ['Wowyow', 'Wowyow', 'Splaysh', 'Splaysh', 'Pipplee'],\n",
    "    'style': ['cistern', 'cistern', 'jug', 'stock', 'stock'],\n",
    "    'rating': [4.0, 4.0, 5.5, 3.3, 3.0]\n",
    "}\n",
    "# Create the DataFrame\n",
    "df2 = pd.DataFrame(data)\n",
    "\n",
    "# Display the DataFrame\n",
    "print(df2)"
   ]
  },
  {
   "cell_type": "code",
   "execution_count": 24,
   "metadata": {},
   "outputs": [
    {
     "name": "stdout",
     "output_type": "stream",
     "text": [
      "\n",
      "     brand    style  rating\n",
      "0   Wowyow  cistern     4.0\n",
      "2  Splaysh      jug     5.5\n",
      "3  Splaysh    stock     3.3\n",
      "4  Pipplee    stock     3.0\n"
     ]
    }
   ],
   "source": [
    "df2 = df2.drop_duplicates(subset=['style', 'rating'])\n",
    "\n",
    "print()\n",
    "print(df2)"
   ]
  },
  {
   "cell_type": "markdown",
   "metadata": {},
   "source": [
    "SAMPLE 3"
   ]
  },
  {
   "cell_type": "code",
   "execution_count": 27,
   "metadata": {},
   "outputs": [
    {
     "name": "stdout",
     "output_type": "stream",
     "text": [
      "    color  rating     type\n",
      "0   olive     9.0    rinds\n",
      "1   olive     9.0    rinds\n",
      "2    gray     4.5  pellets\n",
      "3  salmon    11.0  pellets\n",
      "4  salmon     7.0  pellets\n"
     ]
    }
   ],
   "source": [
    "# Define the data\n",
    "data = {\n",
    "    'color': ['olive', 'olive', 'gray', 'salmon', 'salmon'],\n",
    "    'rating': [9.0, 9.0, 4.5, 11.0, 7.0],\n",
    "    'type': ['rinds', 'rinds', 'pellets', 'pellets', 'pellets']\n",
    "}\n",
    "\n",
    "# Create the DataFrame\n",
    "df3 = pd.DataFrame(data)\n",
    "\n",
    "# Display the DataFrame\n",
    "print(df3)"
   ]
  },
  {
   "cell_type": "code",
   "execution_count": 28,
   "metadata": {},
   "outputs": [
    {
     "name": "stdout",
     "output_type": "stream",
     "text": [
      "    color  rating     type\n",
      "0   olive     9.0    rinds\n",
      "1   olive     9.0    rinds\n",
      "2    gray     4.5  pellets\n",
      "3  salmon    11.0  pellets\n",
      "4  salmon     7.0  pellets\n",
      "\n",
      "0     True\n",
      "1    False\n",
      "2     True\n",
      "3     True\n",
      "4    False\n",
      "dtype: bool\n"
     ]
    }
   ],
   "source": [
    "#  identifying duplicates in only one column (subset) of values and labeling the last duplicates as “false,” so that they are “kept”:\n",
    "print(df3)\n",
    "print()\n",
    "print(df3.duplicated(subset=['type'], keep='last'))"
   ]
  }
 ],
 "metadata": {
  "kernelspec": {
   "display_name": "base",
   "language": "python",
   "name": "python3"
  },
  "language_info": {
   "codemirror_mode": {
    "name": "ipython",
    "version": 3
   },
   "file_extension": ".py",
   "mimetype": "text/x-python",
   "name": "python",
   "nbconvert_exporter": "python",
   "pygments_lexer": "ipython3",
   "version": "3.12.4"
  }
 },
 "nbformat": 4,
 "nbformat_minor": 2
}
